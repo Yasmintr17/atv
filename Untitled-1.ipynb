{
 "cells": [
  {
   "cell_type": "code",
   "execution_count": 1,
   "metadata": {},
   "outputs": [
    {
     "name": "stdout",
     "output_type": "stream",
     "text": [
      "A letra digitada é uma vogal.\n"
     ]
    }
   ],
   "source": [
    "letra = input(\"Digite uma letra: \")\n",
    "\n",
    "if letra in 'aeiouAEIOU':\n",
    "    print(\"A letra digitada é uma vogal.\")\n",
    "else:\n",
    "    print(\"A letra digitada é uma consoante.\")"
   ]
  },
  {
   "cell_type": "code",
   "execution_count": 2,
   "metadata": {},
   "outputs": [
    {
     "name": "stdout",
     "output_type": "stream",
     "text": [
      "Você deve comprar o primeiro produto.\n"
     ]
    }
   ],
   "source": [
    "preco1 = float(input(\"Digite o preço do primeiro produto: \"))\n",
    "preco2 = float(input(\"Digite o preço do segundo produto: \"))\n",
    "preco3 = float(input(\"Digite o preço do terceiro produto: \"))\n",
    "\n",
    "\n",
    "if preco1 < preco2 and preco1 < preco3:\n",
    "    print(\"Você deve comprar o primeiro produto.\")\n",
    "elif preco2 < preco1 and preco2 < preco3:\n",
    "    print(\"Você deve comprar o segundo produto.\")\n",
    "else:\n",
    "    print(\"Você deve comprar o terceiro produto.\")\n",
    "    "
   ]
  },
  {
   "cell_type": "code",
   "execution_count": 1,
   "metadata": {},
   "outputs": [
    {
     "name": "stdout",
     "output_type": "stream",
     "text": [
      "25.0 20.0 15.0\n"
     ]
    }
   ],
   "source": [
    "num1 = float(input(\"Digite o primeiro número: \"))\n",
    "num2 = float(input(\"Digite o segundo número: \"))\n",
    "num3 = float(input(\"Digite o terceiro número: \"))\n",
    "\n",
    "if num1 >= num2 and num1 >= num3:\n",
    "    if num2 >= num3:\n",
    "        print(num1, num2, num3)\n",
    "    else:\n",
    "        print(num1, num3, num2)\n",
    "elif num2 >= num1 and num2 >= num3:\n",
    "    if num1 >= num3:\n",
    "        print(num2, num1, num3)\n",
    "    else:\n",
    "        print(num2, num3, num1)\n",
    "else:\n",
    "    if num1 >= num2:\n",
    "        print(num3, num1, num2)\n",
    "    else:\n",
    "        print(num3, num2, num1)"
   ]
  },
  {
   "cell_type": "code",
   "execution_count": 2,
   "metadata": {},
   "outputs": [
    {
     "name": "stdout",
     "output_type": "stream",
     "text": [
      "Bom Dia!\n"
     ]
    }
   ],
   "source": [
    "turno = input(\"Em que turno você estuda? Digite M para Matutino, V para Vespertino ou N para Noturno: \").upper()\n",
    "\n",
    "\n",
    "if turno == 'M':\n",
    "    print(\"Bom Dia!\")\n",
    "elif turno == 'V':\n",
    "    print(\"Boa Tarde!\")\n",
    "elif turno == 'N':\n",
    "    print(\"Boa Noite!\")\n",
    "else:\n",
    "    print(\"Valor Inválido!\")"
   ]
  },
  {
   "cell_type": "code",
   "execution_count": 3,
   "metadata": {},
   "outputs": [
    {
     "name": "stdout",
     "output_type": "stream",
     "text": [
      "Quinta-feira\n"
     ]
    }
   ],
   "source": [
    "numero = int(input(\"Digite um número (1-7) para saber o dia da semana correspondente: \"))\n",
    "\n",
    "if numero == 1:\n",
    "    print(\"Domingo\")\n",
    "elif numero == 2:\n",
    "    print(\"Segunda-feira\")\n",
    "elif numero == 3:\n",
    "    print(\"Terça-feira\")\n",
    "elif numero == 4:\n",
    "    print(\"Quarta-feira\")\n",
    "elif numero == 5:\n",
    "    print(\"Quinta-feira\")\n",
    "elif numero == 6:\n",
    "    print(\"Sexta-feira\")\n",
    "elif numero == 7:\n",
    "    print(\"Sábado\")\n",
    "else:\n",
    "    print(\"Valor Inválido!\")"
   ]
  },
  {
   "cell_type": "code",
   "execution_count": 4,
   "metadata": {},
   "outputs": [
    {
     "name": "stdout",
     "output_type": "stream",
     "text": [
      "Notas: 5.0, 7.0\n",
      "Média: 6.0\n",
      "Conceito: C\n",
      "Status: APROVADO\n"
     ]
    }
   ],
   "source": [
    "nota1 = float(input(\"Digite a primeira nota: \"))\n",
    "nota2 = float(input(\"Digite a segunda nota: \"))\n",
    "\n",
    "media = (nota1 + nota2) / 2\n",
    "\n",
    "if media >= 9.0:\n",
    "    conceito = 'A'\n",
    "elif media >= 7.5:\n",
    "    conceito = 'B'\n",
    "elif media >= 6.0:\n",
    "    conceito = 'C'\n",
    "elif media >= 4.0:\n",
    "    conceito = 'D'\n",
    "else:\n",
    "    conceito = 'E'\n",
    "\n",
    "status = 'APROVADO' if conceito in ['A', 'B', 'C'] else 'REPROVADO'\n",
    "\n",
    "print(f\"Notas: {nota1}, {nota2}\")\n",
    "print(f\"Média: {media}\")\n",
    "print(f\"Conceito: {conceito}\")\n",
    "print(f\"Status: {status}\")"
   ]
  },
  {
   "cell_type": "code",
   "execution_count": 5,
   "metadata": {},
   "outputs": [
    {
     "name": "stdout",
     "output_type": "stream",
     "text": [
      "O ano 2024 é bissexto.\n"
     ]
    }
   ],
   "source": [
    "ano = int(input(\"Digite um ano: \"))\n",
    "\n",
    "\n",
    "if (ano % 4 == 0 and ano % 100 != 0) or (ano % 400 == 0):\n",
    "    print(f\"O ano {ano} é bissexto.\")\n",
    "else:\n",
    "    print(f\"O ano {ano} não é bissexto.\")"
   ]
  },
  {
   "cell_type": "code",
   "execution_count": 6,
   "metadata": {},
   "outputs": [
    {
     "name": "stdout",
     "output_type": "stream",
     "text": [
      "Resultado da soma: 60.0\n",
      "O número é par, positivo e inteiro.\n"
     ]
    }
   ],
   "source": [
    "numero1 = float(input(\"Digite o primeiro número: \"))\n",
    "numero2 = float(input(\"Digite o segundo número: \"))\n",
    "\n",
    "\n",
    "operacao = input(\"Escolha a operação (soma, subtração, multiplicação, divisão, exponenciação): \")\n",
    "\n",
    "\n",
    "if operacao == \"soma\":\n",
    "    resultado = numero1 + numero2\n",
    "elif operacao == \"subtração\":\n",
    "    resultado = numero1 - numero2\n",
    "elif operacao == \"multiplicação\":\n",
    "    resultado = numero1 * numero2\n",
    "elif operacao == \"divisão\":\n",
    "    resultado = numero1 / numero2\n",
    "elif operacao == \"exponenciação\":\n",
    "    resultado = numero1 ** numero2\n",
    "else:\n",
    "    print(\"Operação inválida.\")\n",
    "    exit()\n",
    "\n",
    "\n",
    "paridade = \"par\" if resultado % 2 == 0 else \"ímpar\"\n",
    "\n",
    "\n",
    "sinal = \"positivo\" if resultado >= 0 else \"negativo\"\n",
    "\n",
    "\n",
    "tipo_numero = \"inteiro\" if resultado.is_integer() else \"decimal\"\n",
    "\n",
    "\n",
    "print(f\"Resultado da {operacao}: {resultado}\")\n",
    "print(f\"O número é {paridade}, {sinal} e {tipo_numero}.\")"
   ]
  },
  {
   "cell_type": "code",
   "execution_count": 8,
   "metadata": {},
   "outputs": [
    {
     "name": "stdout",
     "output_type": "stream",
     "text": [
      "Sua idade é: 18\n"
     ]
    }
   ],
   "source": [
    "idade = int(input(\"Digite sua idade: \"))\n",
    "\n",
    "\n",
    "if 0 <= idade <= 150:\n",
    "    print(f\"Sua idade é: {idade}\")\n",
    "else:\n",
    "    print(\"Idade inválida. A idade deve estar entre 0 e 150 anos.\")"
   ]
  },
  {
   "cell_type": "code",
   "execution_count": 17,
   "metadata": {},
   "outputs": [
    {
     "name": "stdout",
     "output_type": "stream",
     "text": [
      "Soma dos números: 35.0\n",
      "Média dos números: 7.0\n"
     ]
    }
   ],
   "source": [
    "numeros = []\n",
    "\n",
    "for i in range(5):\n",
    "    numero = float(input(\"Digite um número: \"))\n",
    "    numeros.append(numero)\n",
    "\n",
    "soma = sum(numeros)\n",
    "media = soma / len(numeros)\n",
    "\n",
    "print(\"Soma dos números:\", soma)\n",
    "print(\"Média dos números:\", media)"
   ]
  },
  {
   "cell_type": "code",
   "execution_count": 16,
   "metadata": {},
   "outputs": [
    {
     "name": "stdout",
     "output_type": "stream",
     "text": [
      "20 não é um número primo.\n"
     ]
    }
   ],
   "source": [
    "numero = int(input(\"Digite um número inteiro: \"))\n",
    "\n",
    "\n",
    "if numero > 1:\n",
    "   \n",
    "    for i in range(2, numero):\n",
    "        if (numero % i) == 0:\n",
    "            print(f\"{numero} não é um número primo.\")\n",
    "            break\n",
    "    else:\n",
    "        print(f\"{numero} é um número primo.\")\n",
    "else:\n",
    "    print(f\"{numero} não é um número primo.\")"
   ]
  },
  {
   "cell_type": "code",
   "execution_count": 18,
   "metadata": {},
   "outputs": [
    {
     "name": "stdout",
     "output_type": "stream",
     "text": [
      "Menor temperatura: 25.0\n",
      "Maior temperatura: 32.0\n",
      "Média das temperaturas: 28.4\n"
     ]
    }
   ],
   "source": [
    "menor_temperatura = float('inf')\n",
    "maior_temperatura = float('-inf')\n",
    "soma_temperaturas = 0\n",
    "\n",
    "\n",
    "for i in range(5):\n",
    "    temperatura = float(input(f\"Digite a {i+1}ª temperatura: \"))\n",
    "    \n",
    "    \n",
    "    if temperatura < menor_temperatura:\n",
    "        menor_temperatura = temperatura\n",
    "    \n",
    "    \n",
    "    if temperatura > maior_temperatura:\n",
    "        maior_temperatura = temperatura\n",
    "    \n",
    "    \n",
    "    soma_temperaturas += temperatura\n",
    "\n",
    "\n",
    "media_temperaturas = soma_temperaturas / 5\n",
    "\n",
    "\n",
    "print(f\"Menor temperatura: {menor_temperatura}\")\n",
    "print(f\"Maior temperatura: {maior_temperatura}\")\n",
    "print(f\"Média das temperaturas: {media_temperaturas}\")"
   ]
  },
  {
   "cell_type": "code",
   "execution_count": 19,
   "metadata": {},
   "outputs": [
    {
     "name": "stdout",
     "output_type": "stream",
     "text": [
      "Saldo médio: R$2000.0\n",
      "Valor do crédito: R$800.0\n"
     ]
    }
   ],
   "source": [
    "saldo_medio = float(input(\"Digite o saldo médio do cliente: \"))\n",
    "\n",
    "if saldo_medio <= 200:\n",
    "    credito = saldo_medio * 0.1\n",
    "elif saldo_medio <= 300:\n",
    "    credito = saldo_medio * 0.2\n",
    "elif saldo_medio <= 400:\n",
    "    credito = saldo_medio * 0.3\n",
    "else:\n",
    "    credito = saldo_medio * 0.4\n",
    "\n",
    "\n",
    "print(f\"Saldo médio: R${saldo_medio}\")\n",
    "print(f\"Valor do crédito: R${credito}\")"
   ]
  },
  {
   "cell_type": "code",
   "execution_count": 22,
   "metadata": {},
   "outputs": [
    {
     "name": "stdout",
     "output_type": "stream",
     "text": [
      "yasmin, você poderá se aposentar no ano de 2071\n"
     ]
    }
   ],
   "source": [
    "from datetime import datetime\n",
    "\n",
    "nome = input(\"Digite seu nome: \")\n",
    "idade = int(input(\"Digite sua idade: \"))\n",
    "\n",
    "ano_atual = datetime.now().year\n",
    "ano_aposentadoria = ano_atual + (65 - idade)\n",
    "\n",
    "print(nome + \", você poderá se aposentar no ano de\", ano_aposentadoria)"
   ]
  },
  {
   "cell_type": "code",
   "execution_count": 24,
   "metadata": {},
   "outputs": [
    {
     "name": "stdout",
     "output_type": "stream",
     "text": [
      "Salário Bruto: R$ 100.0\n",
      "Desconto do Imposto de Renda: R$ 0\n",
      "Desconto do Sindicato: R$ 3.0\n",
      "FGTS (11%): R$ 11.0\n",
      "Salário Líquido: R$ 97.0\n"
     ]
    }
   ],
   "source": [
    "def calcular_desconto_ir(salario_bruto):\n",
    "    if salario_bruto <= 2112.00:\n",
    "        return 0\n",
    "    elif 2112.01 <= salario_bruto <= 2826.65:\n",
    "        return salario_bruto * 0.075\n",
    "    elif 2826.66 <= salario_bruto <= 3751.05:\n",
    "        return salario_bruto * 0.15\n",
    "    elif 3751.06 <= salario_bruto <= 4664.68:\n",
    "        return salario_bruto * 0.225\n",
    "    else:\n",
    "        return salario_bruto * 0.275\n",
    "\n",
    "valor_hora = float(input(\"Digite o valor da sua hora de trabalho: \"))\n",
    "horas_trabalhadas = float(input(\"Digite a quantidade de horas trabalhadas no mês: \"))\n",
    "\n",
    "salario_bruto = valor_hora * horas_trabalhadas\n",
    "fgts = salario_bruto * 0.11\n",
    "sindicato = salario_bruto * 0.03\n",
    "desconto_ir = calcular_desconto_ir(salario_bruto)\n",
    "salario_liquido = salario_bruto - desconto_ir - sindicato\n",
    "\n",
    "print(\"Salário Bruto: R$\", salario_bruto)\n",
    "print(\"Desconto do Imposto de Renda: R$\", desconto_ir)\n",
    "print(\"Desconto do Sindicato: R$\", sindicato)\n",
    "print(\"FGTS (11%): R$\", fgts)\n",
    "print(\"Salário Líquido: R$\", salario_liquido)"
   ]
  }
 ],
 "metadata": {
  "kernelspec": {
   "display_name": "Python 3",
   "language": "python",
   "name": "python3"
  },
  "language_info": {
   "codemirror_mode": {
    "name": "ipython",
    "version": 3
   },
   "file_extension": ".py",
   "mimetype": "text/x-python",
   "name": "python",
   "nbconvert_exporter": "python",
   "pygments_lexer": "ipython3",
   "version": "3.12.2"
  }
 },
 "nbformat": 4,
 "nbformat_minor": 2
}
